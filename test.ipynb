{
 "cells": [
  {
   "cell_type": "code",
   "execution_count": 1,
   "metadata": {},
   "outputs": [
    {
     "name": "stdout",
     "output_type": "stream",
     "text": [
      "User-user CF, RMSE = 0.9951816576105769\n"
     ]
    },
    {
     "name": "stderr",
     "output_type": "stream",
     "text": [
      "/home/wonyoung/anaconda3/envs/cf_venv/lib/python3.11/site-packages/numpy/core/fromnumeric.py:3504: RuntimeWarning: Mean of empty slice.\n",
      "  return _methods._mean(a, axis=axis, dtype=dtype,\n",
      "/home/wonyoung/anaconda3/envs/cf_venv/lib/python3.11/site-packages/numpy/core/_methods.py:129: RuntimeWarning: invalid value encountered in scalar divide\n",
      "  ret = ret.dtype.type(ret / rcount)\n"
     ]
    },
    {
     "name": "stdout",
     "output_type": "stream",
     "text": [
      "Item-item CF, RMSE = 0.9867721478204954\n"
     ]
    },
    {
     "name": "stderr",
     "output_type": "stream",
     "text": [
      "/home/wonyoung/anaconda3/envs/cf_venv/lib/python3.11/site-packages/numpy/core/fromnumeric.py:3504: RuntimeWarning: Mean of empty slice.\n",
      "  return _methods._mean(a, axis=axis, dtype=dtype,\n",
      "/home/wonyoung/anaconda3/envs/cf_venv/lib/python3.11/site-packages/numpy/core/_methods.py:129: RuntimeWarning: invalid value encountered in scalar divide\n",
      "  ret = ret.dtype.type(ret / rcount)\n"
     ]
    },
    {
     "name": "stdout",
     "output_type": "stream",
     "text": [
      "1 completed!\n"
     ]
    },
    {
     "name": "stderr",
     "output_type": "stream",
     "text": [
      "/home/wonyoung/anaconda3/envs/cf_venv/lib/python3.11/site-packages/numpy/core/fromnumeric.py:3504: RuntimeWarning: Mean of empty slice.\n",
      "  return _methods._mean(a, axis=axis, dtype=dtype,\n",
      "/home/wonyoung/anaconda3/envs/cf_venv/lib/python3.11/site-packages/numpy/core/_methods.py:129: RuntimeWarning: invalid value encountered in scalar divide\n",
      "  ret = ret.dtype.type(ret / rcount)\n"
     ]
    },
    {
     "name": "stdout",
     "output_type": "stream",
     "text": [
      "2 completed!\n"
     ]
    },
    {
     "ename": "IndexError",
     "evalue": "row index (1679) out of range",
     "output_type": "error",
     "traceback": [
      "\u001b[0;31m---------------------------------------------------------------------------\u001b[0m",
      "\u001b[0;31mIndexError\u001b[0m                                Traceback (most recent call last)",
      "Cell \u001b[0;32mIn[1], line 30\u001b[0m\n\u001b[1;32m     28\u001b[0m SE \u001b[38;5;241m=\u001b[39m \u001b[38;5;241m0\u001b[39m  \u001b[38;5;66;03m# squared error\u001b[39;00m\n\u001b[1;32m     29\u001b[0m \u001b[38;5;28;01mfor\u001b[39;00m n \u001b[38;5;129;01min\u001b[39;00m \u001b[38;5;28mrange\u001b[39m(n_tests):\n\u001b[0;32m---> 30\u001b[0m     pred \u001b[38;5;241m=\u001b[39m rs\u001b[38;5;241m.\u001b[39mpred(testing_data\u001b[38;5;241m.\u001b[39miloc[n, \u001b[38;5;241m0\u001b[39m], testing_data\u001b[38;5;241m.\u001b[39miloc[n, \u001b[38;5;241m1\u001b[39m], normalized\u001b[38;5;241m=\u001b[39m\u001b[38;5;241m0\u001b[39m)\n\u001b[1;32m     31\u001b[0m     SE \u001b[38;5;241m+\u001b[39m\u001b[38;5;241m=\u001b[39m (pred \u001b[38;5;241m-\u001b[39m testing_data\u001b[38;5;241m.\u001b[39miloc[n, \u001b[38;5;241m2\u001b[39m]) \u001b[38;5;241m*\u001b[39m\u001b[38;5;241m*\u001b[39m \u001b[38;5;241m2\u001b[39m\n\u001b[1;32m     33\u001b[0m RMSE_user \u001b[38;5;241m=\u001b[39m np\u001b[38;5;241m.\u001b[39msqrt(SE \u001b[38;5;241m/\u001b[39m n_tests)\n",
      "File \u001b[0;32m~/Desktop/github/Neighbor-based-CF/CF.py:100\u001b[0m, in \u001b[0;36mCF.pred\u001b[0;34m(self, u, i, normalized)\u001b[0m\n\u001b[1;32m     95\u001b[0m \u001b[38;5;28;01mdef\u001b[39;00m \u001b[38;5;21mpred\u001b[39m(\u001b[38;5;28mself\u001b[39m, u, i, normalized \u001b[38;5;241m=\u001b[39m \u001b[38;5;241m1\u001b[39m):\n\u001b[1;32m     96\u001b[0m \u001b[38;5;250m    \u001b[39m\u001b[38;5;124;03m\"\"\" \u001b[39;00m\n\u001b[1;32m     97\u001b[0m \u001b[38;5;124;03m    predict the rating of user u for item i (normalized)\u001b[39;00m\n\u001b[1;32m     98\u001b[0m \u001b[38;5;124;03m    if you need the un\u001b[39;00m\n\u001b[1;32m     99\u001b[0m \u001b[38;5;124;03m    \"\"\"\u001b[39;00m\n\u001b[0;32m--> 100\u001b[0m     \u001b[38;5;28;01mif\u001b[39;00m \u001b[38;5;28mself\u001b[39m\u001b[38;5;241m.\u001b[39muuCF: \u001b[38;5;28;01mreturn\u001b[39;00m \u001b[38;5;28mself\u001b[39m\u001b[38;5;241m.\u001b[39m__pred(u, i, normalized)\n\u001b[1;32m    101\u001b[0m     \u001b[38;5;28;01mreturn\u001b[39;00m \u001b[38;5;28mself\u001b[39m\u001b[38;5;241m.\u001b[39m__pred(i, u, normalized)\n",
      "File \u001b[0;32m~/Desktop/github/Neighbor-based-CF/CF.py:88\u001b[0m, in \u001b[0;36mCF.__pred\u001b[0;34m(self, u, i, normalized)\u001b[0m\n\u001b[1;32m     86\u001b[0m nearest_s \u001b[38;5;241m=\u001b[39m sim[a]\n\u001b[1;32m     87\u001b[0m \u001b[38;5;66;03m# How did each of 'near' users rated item i\u001b[39;00m\n\u001b[0;32m---> 88\u001b[0m r \u001b[38;5;241m=\u001b[39m \u001b[38;5;28mself\u001b[39m\u001b[38;5;241m.\u001b[39mYbar[i, users_rated_i[a]]\n\u001b[1;32m     89\u001b[0m \u001b[38;5;28;01mif\u001b[39;00m normalized:\n\u001b[1;32m     90\u001b[0m     \u001b[38;5;66;03m# add a small number, for instance, 1e-8, to avoid dividing by 0\u001b[39;00m\n\u001b[1;32m     91\u001b[0m     \u001b[38;5;28;01mreturn\u001b[39;00m (r\u001b[38;5;241m*\u001b[39mnearest_s)[\u001b[38;5;241m0\u001b[39m]\u001b[38;5;241m/\u001b[39m(np\u001b[38;5;241m.\u001b[39mabs(nearest_s)\u001b[38;5;241m.\u001b[39msum() \u001b[38;5;241m+\u001b[39m \u001b[38;5;241m1e-8\u001b[39m)\n",
      "File \u001b[0;32m~/anaconda3/envs/cf_venv/lib/python3.11/site-packages/scipy/sparse/_index.py:52\u001b[0m, in \u001b[0;36mIndexMixin.__getitem__\u001b[0;34m(self, key)\u001b[0m\n\u001b[1;32m     51\u001b[0m \u001b[38;5;28;01mdef\u001b[39;00m \u001b[38;5;21m__getitem__\u001b[39m(\u001b[38;5;28mself\u001b[39m, key):\n\u001b[0;32m---> 52\u001b[0m     row, col \u001b[38;5;241m=\u001b[39m \u001b[38;5;28mself\u001b[39m\u001b[38;5;241m.\u001b[39m_validate_indices(key)\n\u001b[1;32m     54\u001b[0m     \u001b[38;5;66;03m# Dispatch to specialized methods.\u001b[39;00m\n\u001b[1;32m     55\u001b[0m     \u001b[38;5;28;01mif\u001b[39;00m \u001b[38;5;28misinstance\u001b[39m(row, INT_TYPES):\n",
      "File \u001b[0;32m~/anaconda3/envs/cf_venv/lib/python3.11/site-packages/scipy/sparse/_index.py:180\u001b[0m, in \u001b[0;36mIndexMixin._validate_indices\u001b[0;34m(self, key)\u001b[0m\n\u001b[1;32m    178\u001b[0m row \u001b[38;5;241m=\u001b[39m \u001b[38;5;28mint\u001b[39m(row)\n\u001b[1;32m    179\u001b[0m \u001b[38;5;28;01mif\u001b[39;00m row \u001b[38;5;241m<\u001b[39m \u001b[38;5;241m-\u001b[39mM \u001b[38;5;129;01mor\u001b[39;00m row \u001b[38;5;241m>\u001b[39m\u001b[38;5;241m=\u001b[39m M:\n\u001b[0;32m--> 180\u001b[0m     \u001b[38;5;28;01mraise\u001b[39;00m \u001b[38;5;167;01mIndexError\u001b[39;00m(\u001b[38;5;124m'\u001b[39m\u001b[38;5;124mrow index (\u001b[39m\u001b[38;5;132;01m%d\u001b[39;00m\u001b[38;5;124m) out of range\u001b[39m\u001b[38;5;124m'\u001b[39m \u001b[38;5;241m%\u001b[39m row)\n\u001b[1;32m    181\u001b[0m \u001b[38;5;28;01mif\u001b[39;00m row \u001b[38;5;241m<\u001b[39m \u001b[38;5;241m0\u001b[39m:\n\u001b[1;32m    182\u001b[0m     row \u001b[38;5;241m+\u001b[39m\u001b[38;5;241m=\u001b[39m M\n",
      "\u001b[0;31mIndexError\u001b[0m: row index (1679) out of range"
     ]
    }
   ],
   "source": [
    "import pandas as pd\n",
    "from sklearn.model_selection import train_test_split\n",
    "from CF import CF  # Giả sử bạn đã cài đặt và import class CF từ file CF.py\n",
    "import numpy as np\n",
    "import matplotlib.pyplot as plt\n",
    "\n",
    "# Khởi tạo danh sách để lưu trữ giá trị RMSE cho mỗi lần chạy\n",
    "rmse_user_list = []\n",
    "rmse_item_list = []\n",
    "\n",
    "for i in range(1, 101):\n",
    "    # Tải dữ liệu từ file u.data\n",
    "    column_names = ['user_id', 'item_id', 'rating', 'timestamp']\n",
    "    data = pd.read_csv('./input/ml-100k/u.data', sep='\\t', names=column_names)\n",
    "\n",
    "    # Chia dữ liệu với tỷ lệ 75% training và 25% testing\n",
    "    training_data, testing_data = train_test_split(data, test_size=0.25, random_state=i)\n",
    "\n",
    "    # Chuyển đổi indices bắt đầu từ 0\n",
    "    training_data.iloc[:, :2] -= 1\n",
    "    testing_data.iloc[:, :2] -= 1\n",
    "\n",
    "    # User-based CF\n",
    "    rs = CF(training_data.to_numpy(), k=30, uuCF=1)\n",
    "    rs.fit()\n",
    "\n",
    "    n_tests = testing_data.shape[0]\n",
    "    SE = 0  # squared error\n",
    "    for n in range(n_tests):\n",
    "        pred = rs.pred(testing_data.iloc[n, 0], testing_data.iloc[n, 1], normalized=0)\n",
    "        SE += (pred - testing_data.iloc[n, 2]) ** 2\n",
    "\n",
    "    RMSE_user = np.sqrt(SE / n_tests)\n",
    "    rmse_user_list.append(RMSE_user)\n",
    "\n",
    "    # Item-based CF\n",
    "    rs = CF(training_data.to_numpy(), k=30, uuCF=0)\n",
    "    rs.fit()\n",
    "\n",
    "    SE = 0  # squared error\n",
    "    for n in range(n_tests):\n",
    "        pred = rs.pred(testing_data.iloc[n, 0], testing_data.iloc[n, 1], normalized=0)\n",
    "        SE += (pred - testing_data.iloc[n, 2]) ** 2\n",
    "\n",
    "    RMSE_item = np.sqrt(SE / n_tests)\n",
    "    rmse_item_list.append(RMSE_item)\n",
    "    print(i, \"completed!\")\n",
    "\n",
    "# Vẽ đồ thị\n",
    "plt.figure(figsize=(12, 6))\n",
    "plt.plot(range(1, 101), rmse_user_list, label='User-based CF', color='deepskyblue')\n",
    "plt.plot(range(1, 101), rmse_item_list, label='Item-based CF', color='red')\n",
    "plt.xlabel('Iteration')\n",
    "plt.ylabel('RMSE')\n",
    "plt.title('RMSE over 100 Iterations for User-based and Item-based CF')\n",
    "plt.legend()\n",
    "plt.show()\n"
   ]
  }
 ],
 "metadata": {
  "kernelspec": {
   "display_name": "Python 3 (ipykernel)",
   "language": "python",
   "name": "python3"
  },
  "language_info": {
   "codemirror_mode": {
    "name": "ipython",
    "version": 3
   },
   "file_extension": ".py",
   "mimetype": "text/x-python",
   "name": "python",
   "nbconvert_exporter": "python",
   "pygments_lexer": "ipython3",
   "version": "3.11.9"
  }
 },
 "nbformat": 4,
 "nbformat_minor": 4
}
